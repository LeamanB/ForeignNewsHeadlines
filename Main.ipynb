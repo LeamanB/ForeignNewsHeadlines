{
 "cells": [
  {
   "cell_type": "code",
   "execution_count": 1,
   "id": "5b5e9335-466f-496e-b4bd-a2e8fa196c4b",
   "metadata": {},
   "outputs": [],
   "source": [
    "#!pip3 install openai\n",
    "#!pip3 install os\n",
    "#!pip3 install requests\n",
    "#!pip3 install bs4\n",
    "#!pip3 install lxml\n",
    "\n",
    "import openai\n",
    "import os\n",
    "import requests\n",
    "import bs4\n",
    "\n",
    "#os.environ[\"API_Key\"] = ''\n",
    "#openai.api_key = os.getenv[\"API_KEY\"]\n",
    "\n",
    "#print(openai.api_key)"
   ]
  },
  {
   "cell_type": "code",
   "execution_count": 2,
   "id": "af8e677d-b0ca-41cc-bacc-afff6176fc76",
   "metadata": {},
   "outputs": [],
   "source": [
    "news_sites = {\n",
    "    \"chinese\": (\"https://cn.chinadaily.com.cn\", \"div.Home_content_Item_Text h1 a\"),\n",
    "    \"arabic\": (\"https://aljazeera.net\", \"h3.fte-article_title\")\n",
    "}"
   ]
  },
  {
   "cell_type": "code",
   "execution_count": 3,
   "id": "66b76d76-dafe-4069-87fb-1db75ea72796",
   "metadata": {},
   "outputs": [
    {
     "name": "stdin",
     "output_type": "stream",
     "text": [
      "What language are you interested in hearing news headlines summarised in? chinese\n"
     ]
    }
   ],
   "source": [
    "user_language = input(\"What language are you interested in hearing news headlines summarised in?\")\n",
    "# selected_url = news_sites.get(user_language, \"Language not supported\")\n",
    "# print(selected_url)"
   ]
  },
  {
   "cell_type": "code",
   "execution_count": 4,
   "id": "e1ea314d-65dc-4930-913b-bc8a49228321",
   "metadata": {},
   "outputs": [],
   "source": [
    "# response = requests.get(selected_url)\n",
    "# print(response.text)"
   ]
  },
  {
   "cell_type": "code",
   "execution_count": 5,
   "id": "e267b60d-9db2-4404-97f6-ab790cb51adb",
   "metadata": {},
   "outputs": [],
   "source": [
    "# soup = bs4.BeautifulSoup(response.text, 'lxml')\n",
    "# print(soup.select('div.Home_content_Item_Text h1 a'))"
   ]
  },
  {
   "cell_type": "code",
   "execution_count": 6,
   "id": "36dbebbc-a3cd-42b4-9593-6e41283c8a51",
   "metadata": {},
   "outputs": [],
   "source": [
    "def fetch_headlines(language):\n",
    "    url, tag = news_sites.get(language, (None, None))\n",
    "    if not url:\n",
    "        print(\"Language not supported\")\n",
    "        return\n",
    "    response = requests.get(url)\n",
    "    soup = bs4.BeautifulSoup(response.text, 'lxml')\n",
    "\n",
    "    headlines = [h.getText() for h in soup.select(tag)[:5]]\n",
    "    return headlines\n",
    "\n",
    "selected_headlines = fetch_headlines(user_language)\n",
    "# print(selected_headlines)"
   ]
  },
  {
   "cell_type": "code",
   "execution_count": 7,
   "id": "c3dae841-193b-4b18-bf44-6d9a52debfaa",
   "metadata": {},
   "outputs": [],
   "source": [
    "def create_prompt(headlines):\n",
    "    joined_headlines = \"\\n\".join(headlines)\n",
    "    prompt = f\"Translate the following headlines into English:\\n{joined_headlines}\"\n",
    "    return prompt\n",
    "\n",
    "# print(create_prompt(selected_headlines))"
   ]
  },
  {
   "cell_type": "code",
   "execution_count": 8,
   "id": "35246c79-6380-4c34-82dc-b1abf5ed9d1d",
   "metadata": {},
   "outputs": [
    {
     "ename": "APIRemovedInV1",
     "evalue": "\n\nYou tried to access openai.Completion, but this is no longer supported in openai>=1.0.0 - see the README at https://github.com/openai/openai-python for the API.\n\nYou can run `openai migrate` to automatically upgrade your codebase to use the 1.0.0 interface. \n\nAlternatively, you can pin your installation to the old version, e.g. `pip install openai==0.28`\n\nA detailed migration guide is available here: https://github.com/openai/openai-python/discussions/742\n",
     "output_type": "error",
     "traceback": [
      "\u001b[1;31m---------------------------------------------------------------------------\u001b[0m",
      "\u001b[1;31mAPIRemovedInV1\u001b[0m                            Traceback (most recent call last)",
      "Cell \u001b[1;32mIn[8], line 2\u001b[0m\n\u001b[0;32m      1\u001b[0m prompt \u001b[38;5;241m=\u001b[39m create_prompt(selected_headlines)\n\u001b[1;32m----> 2\u001b[0m response \u001b[38;5;241m=\u001b[39m \u001b[43mopenai\u001b[49m\u001b[38;5;241;43m.\u001b[39;49m\u001b[43mCompletion\u001b[49m\u001b[38;5;241;43m.\u001b[39;49m\u001b[43mcreate\u001b[49m(\n\u001b[0;32m      3\u001b[0m     model\u001b[38;5;241m=\u001b[39m\u001b[38;5;124m\"\u001b[39m\u001b[38;5;124mtext-davinci-003\u001b[39m\u001b[38;5;124m\"\u001b[39m,\n\u001b[0;32m      4\u001b[0m     prompt\u001b[38;5;241m=\u001b[39mprompt,\n\u001b[0;32m      5\u001b[0m     temperature\u001b[38;5;241m=\u001b[39m\u001b[38;5;241m0.1\u001b[39m,\n\u001b[0;32m      6\u001b[0m     max_tokens\u001b[38;5;241m=\u001b[39m\u001b[38;5;241m200\u001b[39m\n\u001b[0;32m      7\u001b[0m )\n\u001b[0;32m      9\u001b[0m \u001b[38;5;28mprint\u001b[39m(response[\u001b[38;5;124m'\u001b[39m\u001b[38;5;124mchoices\u001b[39m\u001b[38;5;124m'\u001b[39m][\u001b[38;5;241m0\u001b[39m][\u001b[38;5;124m'\u001b[39m\u001b[38;5;124mtext\u001b[39m\u001b[38;5;124m'\u001b[39m])\n",
      "File \u001b[1;32m~\\Code\\ForeignNewsHeadlines\\venv\\Lib\\site-packages\\openai\\_utils\\_proxy.py:22\u001b[0m, in \u001b[0;36mLazyProxy.__getattr__\u001b[1;34m(self, attr)\u001b[0m\n\u001b[0;32m     21\u001b[0m \u001b[38;5;28;01mdef\u001b[39;00m \u001b[38;5;21m__getattr__\u001b[39m(\u001b[38;5;28mself\u001b[39m, attr: \u001b[38;5;28mstr\u001b[39m) \u001b[38;5;241m-\u001b[39m\u001b[38;5;241m>\u001b[39m \u001b[38;5;28mobject\u001b[39m:\n\u001b[1;32m---> 22\u001b[0m     \u001b[38;5;28;01mreturn\u001b[39;00m \u001b[38;5;28mgetattr\u001b[39m(\u001b[38;5;28;43mself\u001b[39;49m\u001b[38;5;241;43m.\u001b[39;49m\u001b[43m__get_proxied__\u001b[49m\u001b[43m(\u001b[49m\u001b[43m)\u001b[49m, attr)\n",
      "File \u001b[1;32m~\\Code\\ForeignNewsHeadlines\\venv\\Lib\\site-packages\\openai\\_utils\\_proxy.py:43\u001b[0m, in \u001b[0;36mLazyProxy.__get_proxied__\u001b[1;34m(self)\u001b[0m\n\u001b[0;32m     41\u001b[0m \u001b[38;5;28;01mdef\u001b[39;00m \u001b[38;5;21m__get_proxied__\u001b[39m(\u001b[38;5;28mself\u001b[39m) \u001b[38;5;241m-\u001b[39m\u001b[38;5;241m>\u001b[39m T:\n\u001b[0;32m     42\u001b[0m     \u001b[38;5;28;01mif\u001b[39;00m \u001b[38;5;129;01mnot\u001b[39;00m \u001b[38;5;28mself\u001b[39m\u001b[38;5;241m.\u001b[39mshould_cache:\n\u001b[1;32m---> 43\u001b[0m         \u001b[38;5;28;01mreturn\u001b[39;00m \u001b[38;5;28;43mself\u001b[39;49m\u001b[38;5;241;43m.\u001b[39;49m\u001b[43m__load__\u001b[49m\u001b[43m(\u001b[49m\u001b[43m)\u001b[49m\n\u001b[0;32m     45\u001b[0m     proxied \u001b[38;5;241m=\u001b[39m \u001b[38;5;28mself\u001b[39m\u001b[38;5;241m.\u001b[39m__proxied\n\u001b[0;32m     46\u001b[0m     \u001b[38;5;28;01mif\u001b[39;00m proxied \u001b[38;5;129;01mis\u001b[39;00m \u001b[38;5;129;01mnot\u001b[39;00m \u001b[38;5;28;01mNone\u001b[39;00m:\n",
      "File \u001b[1;32m~\\Code\\ForeignNewsHeadlines\\venv\\Lib\\site-packages\\openai\\lib\\_old_api.py:33\u001b[0m, in \u001b[0;36mAPIRemovedInV1Proxy.__load__\u001b[1;34m(self)\u001b[0m\n\u001b[0;32m     31\u001b[0m \u001b[38;5;129m@override\u001b[39m\n\u001b[0;32m     32\u001b[0m \u001b[38;5;28;01mdef\u001b[39;00m \u001b[38;5;21m__load__\u001b[39m(\u001b[38;5;28mself\u001b[39m) \u001b[38;5;241m-\u001b[39m\u001b[38;5;241m>\u001b[39m \u001b[38;5;28;01mNone\u001b[39;00m:\n\u001b[1;32m---> 33\u001b[0m     \u001b[38;5;28;01mraise\u001b[39;00m APIRemovedInV1(symbol\u001b[38;5;241m=\u001b[39m\u001b[38;5;28mself\u001b[39m\u001b[38;5;241m.\u001b[39m_symbol)\n",
      "\u001b[1;31mAPIRemovedInV1\u001b[0m: \n\nYou tried to access openai.Completion, but this is no longer supported in openai>=1.0.0 - see the README at https://github.com/openai/openai-python for the API.\n\nYou can run `openai migrate` to automatically upgrade your codebase to use the 1.0.0 interface. \n\nAlternatively, you can pin your installation to the old version, e.g. `pip install openai==0.28`\n\nA detailed migration guide is available here: https://github.com/openai/openai-python/discussions/742\n"
     ]
    }
   ],
   "source": [
    "prompt = create_prompt(selected_headlines)\n",
    "response = openai.Completion.create(\n",
    "    model=\"text-davinci-003\",\n",
    "    prompt=prompt,\n",
    "    temperature=0.1,\n",
    "    max_tokens=200\n",
    ")\n",
    "\n",
    "print(response['choices'][0]['text'])"
   ]
  },
  {
   "cell_type": "code",
   "execution_count": null,
   "id": "3497299e-81df-4542-ae06-2ffd5baf85fc",
   "metadata": {},
   "outputs": [],
   "source": []
  }
 ],
 "metadata": {
  "kernelspec": {
   "display_name": "Python 3 (ipykernel)",
   "language": "python",
   "name": "python3"
  },
  "language_info": {
   "codemirror_mode": {
    "name": "ipython",
    "version": 3
   },
   "file_extension": ".py",
   "mimetype": "text/x-python",
   "name": "python",
   "nbconvert_exporter": "python",
   "pygments_lexer": "ipython3",
   "version": "3.11.6"
  }
 },
 "nbformat": 4,
 "nbformat_minor": 5
}
